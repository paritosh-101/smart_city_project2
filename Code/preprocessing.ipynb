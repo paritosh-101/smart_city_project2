{
 "cells": [
  {
   "cell_type": "code",
   "execution_count": 1,
   "metadata": {},
   "outputs": [
    {
     "name": "stdout",
     "output_type": "stream",
     "text": [
      "           Alert        Date      Time        Lat       Long  Vehicle  Speed\n",
      "0        cas_ldw  2022-05-01  00:00:06  14.196872  77.631213   3829.0     58\n",
      "1        cas_ldw  2022-05-01  00:00:07  16.511887  80.746034   8111.0     56\n",
      "2        cas_ldw  2022-05-01  00:00:11  17.908537  78.464064   1153.0     74\n",
      "3        cas_ldw  2022-05-01  00:00:11  13.152203  77.620431   7103.0     72\n",
      "4        cas_ldw  2022-05-01  00:00:15  16.512134  80.748452   8111.0     57\n",
      "...          ...         ...       ...        ...        ...      ...    ...\n",
      "1845991  cas_ldw  2022-05-30  23:54:35  17.144550  79.600310   6123.0     79\n",
      "1845992  cas_ldw  2022-05-30  23:56:21  17.153962  79.609060   6123.0     60\n",
      "1845993  cas_ldw  2022-05-30  23:56:37  17.155207  79.611777   6123.0     60\n",
      "1845994  cas_ldw  2022-05-30  23:56:49  17.155805  79.613217   6123.0     57\n",
      "1845995  cas_ldw  2022-05-30  23:57:15  17.155263  79.617687   6123.0     63\n",
      "\n",
      "[1845996 rows x 7 columns]\n"
     ]
    }
   ],
   "source": [
    "import pandas as pd\n",
    "\n",
    "# Read the first CSV file into a DataFrame\n",
    "df1 = pd.read_csv('/home/rankit/INAI_Data_Challenge_2023_IIITH/Datasets/iraste_nxt_cas.csv')\n",
    "\n",
    "# Read the second CSV file into another DataFrame\n",
    "df2 = pd.read_csv('/home/rankit/INAI_Data_Challenge_2023_IIITH/Datasets/iraste_nxt_casdms.csv')\n",
    "\n",
    "# Concatenate (merge) the two DataFrames vertically (row-wise)\n",
    "merged_df = pd.concat([df1, df2], ignore_index=True)\n",
    "\n",
    "# Save the merged DataFrame to a new CSV file if needed\n",
    "merged_df.to_csv('/home/rankit/INAI_Data_Challenge_2023_IIITH/Datasets/merged.csv', index=False)\n",
    "\n",
    "# You can also print or use the merged DataFrame as needed\n",
    "print(merged_df)\n"
   ]
  },
  {
   "cell_type": "code",
   "execution_count": 16,
   "metadata": {},
   "outputs": [],
   "source": [
    "import pandas as pd\n",
    "import geohash2\n",
    "from datetime import datetime"
   ]
  },
  {
   "cell_type": "code",
   "execution_count": 18,
   "metadata": {},
   "outputs": [],
   "source": [
    "df = pd.read_csv('/home/rankit/INAI_Data_Challenge_2023_IIITH/Datasets/merged.csv')\n",
    "\n",
    "# Function to calculate geohash for each row\n",
    "def calculate_geohash(row):\n",
    "    try:\n",
    "        lat = row['Lat']  # Replace 'Latitude' with your latitude column name\n",
    "        lon = row['Long'] # Replace 'Longitude' with your longitude column name\n",
    "        geohash = geohash2.encode(lat, lon, precision=8)  # Adjust precision as needed\n",
    "        return geohash\n",
    "    except:\n",
    "        return None\n",
    "# Combine 'Date' and 'Time' columns into a single datetime column\n",
    "df['Datetime'] = pd.to_datetime(df['Date'] + ' ' + df['Time'])\n",
    "\n",
    "# Convert the datetime column to Unix timestamp (seconds since January 1, 1970)\n",
    "df['Timestamp'] = df['Datetime'].apply(lambda x: int(x.timestamp()))\n",
    "\n",
    "# Apply the calculate_geohash function to each row in the DataFrame\n",
    "df['Geohash'] = df.apply(calculate_geohash, axis=1)\n",
    "\n",
    "# Save the DataFrame with geohashes to a new CSV file\n",
    "df.to_csv('final_merged1.csv', index=False)"
   ]
  },
  {
   "cell_type": "code",
   "execution_count": null,
   "metadata": {},
   "outputs": [],
   "source": []
  },
  {
   "cell_type": "code",
   "execution_count": null,
   "metadata": {},
   "outputs": [],
   "source": []
  }
 ],
 "metadata": {
  "kernelspec": {
   "display_name": "Python 3",
   "language": "python",
   "name": "python3"
  },
  "language_info": {
   "codemirror_mode": {
    "name": "ipython",
    "version": 3
   },
   "file_extension": ".py",
   "mimetype": "text/x-python",
   "name": "python",
   "nbconvert_exporter": "python",
   "pygments_lexer": "ipython3",
   "version": "3.10.12"
  },
  "orig_nbformat": 4
 },
 "nbformat": 4,
 "nbformat_minor": 2
}
